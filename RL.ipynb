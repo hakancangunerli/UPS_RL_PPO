{
 "cells": [
  {
   "cell_type": "markdown",
   "metadata": {},
   "source": [
    "# 0. Install and Import dependencies"
   ]
  },
  {
   "cell_type": "code",
   "execution_count": 12,
   "metadata": {
    "collapsed": true
   },
   "outputs": [],
   "source": [
    "# !pip install tensorflow-gpu==1.15.0 tensorflow==1.15.0 stable-baselines gym-anytrading gym"
   ]
  },
  {
   "cell_type": "code",
   "execution_count": 13,
   "metadata": {},
   "outputs": [],
   "source": [
    "# Gym stuff\n",
    "import gymnasium as gym\n",
    "import gym_anytrading\n",
    "\n",
    "# Stable baselines - rl stuff\n",
    "# from stable_baselines.common.vec_env import DummyVecEnv\n",
    "# from stable_baselines import A2C\n",
    "\n",
    "# Processing libraries\n",
    "import numpy as np\n",
    "import pandas as pd\n",
    "from matplotlib import pyplot as plt"
   ]
  },
  {
   "cell_type": "code",
   "execution_count": 14,
   "metadata": {},
   "outputs": [],
   "source": [
    "df = pd.read_csv('./UPS_1Y_Stock.csv')"
   ]
  },
  {
   "cell_type": "code",
   "execution_count": 15,
   "metadata": {},
   "outputs": [
    {
     "data": {
      "text/html": [
       "<div>\n",
       "<style scoped>\n",
       "    .dataframe tbody tr th:only-of-type {\n",
       "        vertical-align: middle;\n",
       "    }\n",
       "\n",
       "    .dataframe tbody tr th {\n",
       "        vertical-align: top;\n",
       "    }\n",
       "\n",
       "    .dataframe thead th {\n",
       "        text-align: right;\n",
       "    }\n",
       "</style>\n",
       "<table border=\"1\" class=\"dataframe\">\n",
       "  <thead>\n",
       "    <tr style=\"text-align: right;\">\n",
       "      <th></th>\n",
       "      <th>Date</th>\n",
       "      <th>Open</th>\n",
       "      <th>High</th>\n",
       "      <th>Low</th>\n",
       "      <th>Close</th>\n",
       "      <th>Volume</th>\n",
       "    </tr>\n",
       "  </thead>\n",
       "  <tbody>\n",
       "    <tr>\n",
       "      <th>0</th>\n",
       "      <td>11/29/2023</td>\n",
       "      <td>151.52</td>\n",
       "      <td>153.46</td>\n",
       "      <td>151.45</td>\n",
       "      <td>152.29</td>\n",
       "      <td>2,981,656</td>\n",
       "    </tr>\n",
       "    <tr>\n",
       "      <th>1</th>\n",
       "      <td>11/28/2023</td>\n",
       "      <td>149.70</td>\n",
       "      <td>151.08</td>\n",
       "      <td>148.98</td>\n",
       "      <td>150.74</td>\n",
       "      <td>3,074,002</td>\n",
       "    </tr>\n",
       "    <tr>\n",
       "      <th>2</th>\n",
       "      <td>11/27/2023</td>\n",
       "      <td>151.04</td>\n",
       "      <td>151.44</td>\n",
       "      <td>149.57</td>\n",
       "      <td>149.59</td>\n",
       "      <td>3,320,030</td>\n",
       "    </tr>\n",
       "    <tr>\n",
       "      <th>3</th>\n",
       "      <td>11/24/2023</td>\n",
       "      <td>151.17</td>\n",
       "      <td>152.04</td>\n",
       "      <td>150.75</td>\n",
       "      <td>152.03</td>\n",
       "      <td>1,644,358</td>\n",
       "    </tr>\n",
       "    <tr>\n",
       "      <th>4</th>\n",
       "      <td>11/22/2023</td>\n",
       "      <td>150.96</td>\n",
       "      <td>151.24</td>\n",
       "      <td>149.94</td>\n",
       "      <td>150.75</td>\n",
       "      <td>2,640,250</td>\n",
       "    </tr>\n",
       "  </tbody>\n",
       "</table>\n",
       "</div>"
      ],
      "text/plain": [
       "         Date    Open    High     Low   Close     Volume\n",
       "0  11/29/2023  151.52  153.46  151.45  152.29  2,981,656\n",
       "1  11/28/2023  149.70  151.08  148.98  150.74  3,074,002\n",
       "2  11/27/2023  151.04  151.44  149.57  149.59  3,320,030\n",
       "3  11/24/2023  151.17  152.04  150.75  152.03  1,644,358\n",
       "4  11/22/2023  150.96  151.24  149.94  150.75  2,640,250"
      ]
     },
     "execution_count": 15,
     "metadata": {},
     "output_type": "execute_result"
    }
   ],
   "source": [
    "df.head()"
   ]
  },
  {
   "cell_type": "code",
   "execution_count": 16,
   "metadata": {},
   "outputs": [
    {
     "data": {
      "text/plain": [
       "Date      datetime64[ns]\n",
       "Open             float64\n",
       "High             float64\n",
       "Low              float64\n",
       "Close            float64\n",
       "Volume            object\n",
       "dtype: object"
      ]
     },
     "execution_count": 16,
     "metadata": {},
     "output_type": "execute_result"
    }
   ],
   "source": [
    "df['Date'] = pd.to_datetime(df['Date'])\n",
    "df.dtypes"
   ]
  },
  {
   "cell_type": "code",
   "execution_count": 17,
   "metadata": {},
   "outputs": [
    {
     "data": {
      "text/html": [
       "<div>\n",
       "<style scoped>\n",
       "    .dataframe tbody tr th:only-of-type {\n",
       "        vertical-align: middle;\n",
       "    }\n",
       "\n",
       "    .dataframe tbody tr th {\n",
       "        vertical-align: top;\n",
       "    }\n",
       "\n",
       "    .dataframe thead th {\n",
       "        text-align: right;\n",
       "    }\n",
       "</style>\n",
       "<table border=\"1\" class=\"dataframe\">\n",
       "  <thead>\n",
       "    <tr style=\"text-align: right;\">\n",
       "      <th></th>\n",
       "      <th>Open</th>\n",
       "      <th>High</th>\n",
       "      <th>Low</th>\n",
       "      <th>Close</th>\n",
       "      <th>Volume</th>\n",
       "    </tr>\n",
       "    <tr>\n",
       "      <th>Date</th>\n",
       "      <th></th>\n",
       "      <th></th>\n",
       "      <th></th>\n",
       "      <th></th>\n",
       "      <th></th>\n",
       "    </tr>\n",
       "  </thead>\n",
       "  <tbody>\n",
       "    <tr>\n",
       "      <th>2023-11-29</th>\n",
       "      <td>151.52</td>\n",
       "      <td>153.46</td>\n",
       "      <td>151.45</td>\n",
       "      <td>152.29</td>\n",
       "      <td>2,981,656</td>\n",
       "    </tr>\n",
       "    <tr>\n",
       "      <th>2023-11-28</th>\n",
       "      <td>149.70</td>\n",
       "      <td>151.08</td>\n",
       "      <td>148.98</td>\n",
       "      <td>150.74</td>\n",
       "      <td>3,074,002</td>\n",
       "    </tr>\n",
       "    <tr>\n",
       "      <th>2023-11-27</th>\n",
       "      <td>151.04</td>\n",
       "      <td>151.44</td>\n",
       "      <td>149.57</td>\n",
       "      <td>149.59</td>\n",
       "      <td>3,320,030</td>\n",
       "    </tr>\n",
       "    <tr>\n",
       "      <th>2023-11-24</th>\n",
       "      <td>151.17</td>\n",
       "      <td>152.04</td>\n",
       "      <td>150.75</td>\n",
       "      <td>152.03</td>\n",
       "      <td>1,644,358</td>\n",
       "    </tr>\n",
       "    <tr>\n",
       "      <th>2023-11-22</th>\n",
       "      <td>150.96</td>\n",
       "      <td>151.24</td>\n",
       "      <td>149.94</td>\n",
       "      <td>150.75</td>\n",
       "      <td>2,640,250</td>\n",
       "    </tr>\n",
       "  </tbody>\n",
       "</table>\n",
       "</div>"
      ],
      "text/plain": [
       "              Open    High     Low   Close     Volume\n",
       "Date                                                 \n",
       "2023-11-29  151.52  153.46  151.45  152.29  2,981,656\n",
       "2023-11-28  149.70  151.08  148.98  150.74  3,074,002\n",
       "2023-11-27  151.04  151.44  149.57  149.59  3,320,030\n",
       "2023-11-24  151.17  152.04  150.75  152.03  1,644,358\n",
       "2023-11-22  150.96  151.24  149.94  150.75  2,640,250"
      ]
     },
     "execution_count": 17,
     "metadata": {},
     "output_type": "execute_result"
    }
   ],
   "source": [
    "df.set_index('Date', inplace=True)\n",
    "df.head()"
   ]
  },
  {
   "cell_type": "code",
   "execution_count": 18,
   "metadata": {},
   "outputs": [],
   "source": [
    "env = gym.make('stocks-v0', df=df, frame_bound=(5,len(df)), window_size=5)"
   ]
  },
  {
   "cell_type": "code",
   "execution_count": 19,
   "metadata": {
    "scrolled": true
   },
   "outputs": [
    {
     "name": "stderr",
     "output_type": "stream",
     "text": [
      "/usr/local/anaconda3/lib/python3.11/site-packages/gymnasium/core.py:311: UserWarning: \u001b[33mWARN: env.signal_features to get variables from other wrappers is deprecated and will be removed in v1.0, to get this variable you can do `env.unwrapped.signal_features` for environment variables or `env.get_wrapper_attr('signal_features')` that will search the reminding wrappers.\u001b[0m\n",
      "  logger.warn(\n"
     ]
    },
    {
     "data": {
      "text/plain": [
       "array([[ 1.5229e+02,  0.0000e+00],\n",
       "       [ 1.5074e+02, -1.5500e+00],\n",
       "       [ 1.4959e+02, -1.1500e+00],\n",
       "       [ 1.5203e+02,  2.4400e+00],\n",
       "       [ 1.5075e+02, -1.2800e+00],\n",
       "       [ 1.4977e+02, -9.8000e-01],\n",
       "       [ 1.4957e+02, -2.0000e-01],\n",
       "       [ 1.4798e+02, -1.5900e+00],\n",
       "       [ 1.4691e+02, -1.0700e+00],\n",
       "       [ 1.4717e+02,  2.6000e-01],\n",
       "       [ 1.4317e+02, -4.0000e+00],\n",
       "       [ 1.3817e+02, -5.0000e+00],\n",
       "       [ 1.3811e+02, -6.0000e-02],\n",
       "       [ 1.3995e+02,  1.8400e+00],\n",
       "       [ 1.4195e+02,  2.0000e+00],\n",
       "       [ 1.4185e+02, -1.0000e-01],\n",
       "       [ 1.4227e+02,  4.2000e-01],\n",
       "       [ 1.4286e+02,  5.9000e-01],\n",
       "       [ 1.4199e+02, -8.7000e-01],\n",
       "       [ 1.3980e+02, -2.1900e+00],\n",
       "       [ 1.4125e+02,  1.4500e+00],\n",
       "       [ 1.3878e+02, -2.4700e+00],\n",
       "       [ 1.3483e+02, -3.9500e+00],\n",
       "       [ 1.3821e+02,  3.3800e+00],\n",
       "       [ 1.4693e+02,  8.7200e+00],\n",
       "       [ 1.4932e+02,  2.3900e+00],\n",
       "       [ 1.4816e+02, -1.1600e+00],\n",
       "       [ 1.5196e+02,  3.8000e+00],\n",
       "       [ 1.5206e+02,  1.0000e-01],\n",
       "       [ 1.5382e+02,  1.7600e+00],\n",
       "       [ 1.5718e+02,  3.3600e+00],\n",
       "       [ 1.5665e+02, -5.3000e-01],\n",
       "       [ 1.5508e+02, -1.5700e+00],\n",
       "       [ 1.5538e+02,  3.0000e-01],\n",
       "       [ 1.5530e+02, -8.0000e-02],\n",
       "       [ 1.5555e+02,  2.5000e-01],\n",
       "       [ 1.5434e+02, -1.2100e+00],\n",
       "       [ 1.5427e+02, -7.0000e-02],\n",
       "       [ 1.5338e+02, -8.9000e-01],\n",
       "       [ 1.5372e+02,  3.4000e-01],\n",
       "       [ 1.5375e+02,  3.0000e-02],\n",
       "       [ 1.5508e+02,  1.3300e+00],\n",
       "       [ 1.5587e+02,  7.9000e-01],\n",
       "       [ 1.5550e+02, -3.7000e-01],\n",
       "       [ 1.5241e+02, -3.0900e+00],\n",
       "       [ 1.5190e+02, -5.1000e-01],\n",
       "       [ 1.5431e+02,  2.4100e+00],\n",
       "       [ 1.5378e+02, -5.3000e-01],\n",
       "       [ 1.5543e+02,  1.6500e+00],\n",
       "       [ 1.5764e+02,  2.2100e+00],\n",
       "       [ 1.5801e+02,  3.7000e-01],\n",
       "       [ 1.5844e+02,  4.3000e-01],\n",
       "       [ 1.6049e+02,  2.0500e+00],\n",
       "       [ 1.6073e+02,  2.4000e-01],\n",
       "       [ 1.5784e+02, -2.8900e+00],\n",
       "       [ 1.5657e+02, -1.2700e+00],\n",
       "       [ 1.6089e+02,  4.3200e+00],\n",
       "       [ 1.6104e+02,  1.5000e-01],\n",
       "       [ 1.6224e+02,  1.2000e+00],\n",
       "       [ 1.6231e+02,  7.0000e-02],\n",
       "       [ 1.6397e+02,  1.6600e+00],\n",
       "       [ 1.6800e+02,  4.0300e+00],\n",
       "       [ 1.6940e+02,  1.4000e+00],\n",
       "       [ 1.7201e+02,  2.6100e+00],\n",
       "       [ 1.7175e+02, -2.6000e-01],\n",
       "       [ 1.6884e+02, -2.9100e+00],\n",
       "       [ 1.6887e+02,  3.0000e-02],\n",
       "       [ 1.6700e+02, -1.8700e+00],\n",
       "       [ 1.6888e+02,  1.8800e+00],\n",
       "       [ 1.6686e+02, -2.0200e+00],\n",
       "       [ 1.6849e+02,  1.6300e+00],\n",
       "       [ 1.7124e+02,  2.7500e+00],\n",
       "       [ 1.7074e+02, -5.0000e-01],\n",
       "       [ 1.7074e+02,  0.0000e+00],\n",
       "       [ 1.7326e+02,  2.5200e+00],\n",
       "       [ 1.7551e+02,  2.2500e+00],\n",
       "       [ 1.7662e+02,  1.1100e+00],\n",
       "       [ 1.8038e+02,  3.7600e+00],\n",
       "       [ 1.7937e+02, -1.0100e+00],\n",
       "       [ 1.8055e+02,  1.1800e+00],\n",
       "       [ 1.8215e+02,  1.6000e+00],\n",
       "       [ 1.8094e+02, -1.2100e+00],\n",
       "       [ 1.8150e+02,  5.6000e-01],\n",
       "       [ 1.8335e+02,  1.8500e+00],\n",
       "       [ 1.8550e+02,  2.1500e+00],\n",
       "       [ 1.8713e+02,  1.6300e+00],\n",
       "       [ 1.8789e+02,  7.6000e-01],\n",
       "       [ 1.8652e+02, -1.3700e+00],\n",
       "       [ 1.8439e+02, -2.1300e+00],\n",
       "       [ 1.8469e+02,  3.0000e-01],\n",
       "       [ 1.8834e+02,  3.6500e+00],\n",
       "       [ 1.8730e+02, -1.0400e+00],\n",
       "       [ 1.8694e+02, -3.6000e-01],\n",
       "       [ 1.8602e+02, -9.2000e-01],\n",
       "       [ 1.8457e+02, -1.4500e+00],\n",
       "       [ 1.8274e+02, -1.8300e+00],\n",
       "       [ 1.8526e+02,  2.5200e+00],\n",
       "       [ 1.8536e+02,  1.0000e-01],\n",
       "       [ 1.8649e+02,  1.1300e+00],\n",
       "       [ 1.8524e+02, -1.2500e+00],\n",
       "       [ 1.8133e+02, -3.9100e+00],\n",
       "       [ 1.7976e+02, -1.5700e+00],\n",
       "       [ 1.7928e+02, -4.8000e-01],\n",
       "       [ 1.7997e+02,  6.9000e-01],\n",
       "       [ 1.8377e+02,  3.8000e+00],\n",
       "       [ 1.7925e+02, -4.5200e+00],\n",
       "       [ 1.7605e+02, -3.2000e+00],\n",
       "       [ 1.7566e+02, -3.9000e-01],\n",
       "       [ 1.7467e+02, -9.9000e-01],\n",
       "       [ 1.7275e+02, -1.9200e+00],\n",
       "       [ 1.6929e+02, -3.4600e+00],\n",
       "       [ 1.7138e+02,  2.0900e+00],\n",
       "       [ 1.7363e+02,  2.2500e+00],\n",
       "       [ 1.7727e+02,  3.6400e+00],\n",
       "       [ 1.7858e+02,  1.3100e+00],\n",
       "       [ 1.7900e+02,  4.2000e-01],\n",
       "       [ 1.7488e+02, -4.1200e+00],\n",
       "       [ 1.7289e+02, -1.9900e+00],\n",
       "       [ 1.7150e+02, -1.3900e+00],\n",
       "       [ 1.7049e+02, -1.0100e+00],\n",
       "       [ 1.7148e+02,  9.9000e-01],\n",
       "       [ 1.7150e+02,  2.0000e-02],\n",
       "       [ 1.6759e+02, -3.9100e+00],\n",
       "       [ 1.6785e+02,  2.6000e-01],\n",
       "       [ 1.7014e+02,  2.2900e+00],\n",
       "       [ 1.6783e+02, -2.3100e+00],\n",
       "       [ 1.6700e+02, -8.3000e-01],\n",
       "       [ 1.6976e+02,  2.7600e+00],\n",
       "       [ 1.7157e+02,  1.8100e+00],\n",
       "       [ 1.7123e+02, -3.4000e-01],\n",
       "       [ 1.6772e+02, -3.5100e+00],\n",
       "       [ 1.6979e+02,  2.0700e+00],\n",
       "       [ 1.7151e+02,  1.7200e+00],\n",
       "       [ 1.7093e+02, -5.8000e-01],\n",
       "       [ 1.7104e+02,  1.1000e-01],\n",
       "       [ 1.7136e+02,  3.2000e-01],\n",
       "       [ 1.6661e+02, -4.7500e+00],\n",
       "       [ 1.6885e+02,  2.2400e+00],\n",
       "       [ 1.6850e+02, -3.5000e-01],\n",
       "       [ 1.7023e+02,  1.7300e+00],\n",
       "       [ 1.7157e+02,  1.3400e+00],\n",
       "       [ 1.7301e+02,  1.4400e+00],\n",
       "       [ 1.7439e+02,  1.3800e+00],\n",
       "       [ 1.7574e+02,  1.3500e+00],\n",
       "       [ 1.7329e+02, -2.4500e+00],\n",
       "       [ 1.7583e+02,  2.5400e+00],\n",
       "       [ 1.7784e+02,  2.0100e+00],\n",
       "       [ 1.8220e+02,  4.3600e+00],\n",
       "       [ 1.7981e+02, -2.3900e+00],\n",
       "       [ 1.7776e+02, -2.0500e+00],\n",
       "       [ 1.7257e+02, -5.1900e+00],\n",
       "       [ 1.7629e+02,  3.7200e+00],\n",
       "       [ 1.9585e+02,  1.9560e+01],\n",
       "       [ 1.9521e+02, -6.4000e-01],\n",
       "       [ 1.9498e+02, -2.3000e-01],\n",
       "       [ 1.9603e+02,  1.0500e+00],\n",
       "       [ 1.9412e+02, -1.9100e+00],\n",
       "       [ 1.9329e+02, -8.3000e-01],\n",
       "       [ 1.9287e+02, -4.2000e-01],\n",
       "       [ 1.9100e+02, -1.8700e+00],\n",
       "       [ 1.8985e+02, -1.1500e+00],\n",
       "       [ 1.9245e+02,  2.6000e+00],\n",
       "       [ 1.9026e+02, -2.1900e+00],\n",
       "       [ 1.8858e+02, -1.6800e+00],\n",
       "       [ 1.8940e+02,  8.2000e-01],\n",
       "       [ 1.9061e+02,  1.2100e+00],\n",
       "       [ 1.9372e+02,  3.1100e+00],\n",
       "       [ 1.9399e+02,  2.7000e-01],\n",
       "       [ 1.9109e+02, -2.9000e+00],\n",
       "       [ 1.9147e+02,  3.8000e-01],\n",
       "       [ 1.8773e+02, -3.7400e+00],\n",
       "       [ 1.8732e+02, -4.1000e-01],\n",
       "       [ 1.8607e+02, -1.2500e+00],\n",
       "       [ 1.8529e+02, -7.8000e-01],\n",
       "       [ 1.8554e+02,  2.5000e-01],\n",
       "       [ 1.8679e+02,  1.2500e+00],\n",
       "       [ 1.8349e+02, -3.3000e+00],\n",
       "       [ 1.8679e+02,  3.3000e+00],\n",
       "       [ 1.8792e+02,  1.1300e+00],\n",
       "       [ 1.8436e+02, -3.5600e+00],\n",
       "       [ 1.8506e+02,  7.0000e-01],\n",
       "       [ 1.8223e+02, -2.8300e+00],\n",
       "       [ 1.8154e+02, -6.9000e-01],\n",
       "       [ 1.8288e+02,  1.3400e+00],\n",
       "       [ 1.8430e+02,  1.4200e+00],\n",
       "       [ 1.8327e+02, -1.0300e+00],\n",
       "       [ 1.8651e+02,  3.2400e+00],\n",
       "       [ 1.8568e+02, -8.3000e-01],\n",
       "       [ 1.8468e+02, -1.0000e+00],\n",
       "       [ 1.8308e+02, -1.6000e+00],\n",
       "       [ 1.8249e+02, -5.9000e-01],\n",
       "       [ 1.8223e+02, -2.6000e-01],\n",
       "       [ 1.8015e+02, -2.0800e+00],\n",
       "       [ 1.7994e+02, -2.1000e-01],\n",
       "       [ 1.7661e+02, -3.3300e+00],\n",
       "       [ 1.7846e+02,  1.8500e+00],\n",
       "       [ 1.8321e+02,  4.7500e+00],\n",
       "       [ 1.8555e+02,  2.3400e+00],\n",
       "       [ 1.8684e+02,  1.2900e+00],\n",
       "       [ 1.8677e+02, -7.0000e-02],\n",
       "       [ 1.8741e+02,  6.4000e-01],\n",
       "       [ 1.8522e+02, -2.1900e+00],\n",
       "       [ 1.8475e+02, -4.7000e-01],\n",
       "       [ 1.8636e+02,  1.6100e+00],\n",
       "       [ 1.8829e+02,  1.9300e+00],\n",
       "       [ 1.8876e+02,  4.7000e-01],\n",
       "       [ 1.9166e+02,  2.9000e+00],\n",
       "       [ 1.9129e+02, -3.7000e-01],\n",
       "       [ 1.8498e+02, -6.3100e+00],\n",
       "       [ 1.8523e+02,  2.5000e-01],\n",
       "       [ 1.7697e+02, -8.2600e+00],\n",
       "       [ 1.8209e+02,  5.1200e+00],\n",
       "       [ 1.7970e+02, -2.3900e+00],\n",
       "       [ 1.7746e+02, -2.2400e+00],\n",
       "       [ 1.7999e+02,  2.5300e+00],\n",
       "       [ 1.8048e+02,  4.9000e-01],\n",
       "       [ 1.7813e+02, -2.3500e+00],\n",
       "       [ 1.7615e+02, -1.9800e+00],\n",
       "       [ 1.7672e+02,  5.7000e-01],\n",
       "       [ 1.7900e+02,  2.2800e+00],\n",
       "       [ 1.8215e+02,  3.1500e+00],\n",
       "       [ 1.8295e+02,  8.0000e-01],\n",
       "       [ 1.8223e+02, -7.2000e-01],\n",
       "       [ 1.7877e+02, -3.4600e+00],\n",
       "       [ 1.8169e+02,  2.9200e+00],\n",
       "       [ 1.7895e+02, -2.7400e+00],\n",
       "       [ 1.7384e+02, -5.1100e+00],\n",
       "       [ 1.7711e+02,  3.2700e+00],\n",
       "       [ 1.7528e+02, -1.8300e+00],\n",
       "       [ 1.7384e+02, -1.4400e+00],\n",
       "       [ 1.7575e+02,  1.9100e+00],\n",
       "       [ 1.7361e+02, -2.1400e+00],\n",
       "       [ 1.7693e+02,  3.3200e+00],\n",
       "       [ 1.7701e+02,  8.0000e-02],\n",
       "       [ 1.7561e+02, -1.4000e+00],\n",
       "       [ 1.7668e+02,  1.0700e+00],\n",
       "       [ 1.7363e+02, -3.0500e+00],\n",
       "       [ 1.7843e+02,  4.8000e+00],\n",
       "       [ 1.7820e+02, -2.3000e-01],\n",
       "       [ 1.8121e+02,  3.0100e+00],\n",
       "       [ 1.8431e+02,  3.1000e+00],\n",
       "       [ 1.8385e+02, -4.6000e-01],\n",
       "       [ 1.8253e+02, -1.3200e+00],\n",
       "       [ 1.7764e+02, -4.8900e+00],\n",
       "       [ 1.7963e+02,  1.9900e+00],\n",
       "       [ 1.7467e+02, -4.9600e+00],\n",
       "       [ 1.7510e+02,  4.3000e-01],\n",
       "       [ 1.8116e+02,  6.0600e+00],\n",
       "       [ 1.8939e+02,  8.2300e+00],\n",
       "       [ 1.9019e+02,  8.0000e-01],\n",
       "       [ 1.8973e+02, -4.6000e-01],\n",
       "       [ 1.8489e+02, -4.8400e+00]], dtype=float32)"
      ]
     },
     "execution_count": 19,
     "metadata": {},
     "output_type": "execute_result"
    }
   ],
   "source": [
    "env.signal_features"
   ]
  },
  {
   "cell_type": "code",
   "execution_count": 20,
   "metadata": {},
   "outputs": [
    {
     "data": {
      "text/plain": [
       "Discrete(2)"
      ]
     },
     "execution_count": 20,
     "metadata": {},
     "output_type": "execute_result"
    }
   ],
   "source": [
    "env.action_space"
   ]
  },
  {
   "cell_type": "code",
   "execution_count": 21,
   "metadata": {},
   "outputs": [
    {
     "name": "stderr",
     "output_type": "stream",
     "text": [
      "/usr/local/anaconda3/lib/python3.11/site-packages/gymnasium/core.py:311: UserWarning: \u001b[33mWARN: env.render_all to get variables from other wrappers is deprecated and will be removed in v1.0, to get this variable you can do `env.unwrapped.render_all` for environment variables or `env.get_wrapper_attr('render_all')` that will search the reminding wrappers.\u001b[0m\n",
      "  logger.warn(\n"
     ]
    },
    {
     "data": {
      "image/png": "[encoded data removed]",
      "text/plain": [
       "<Figure size 1500x600 with 1 Axes>"
      ]
     },
     "metadata": {},
     "output_type": "display_data"
    }
   ],
   "source": [
    "state = env.reset()\n",
    "for _ in range(len(df)-6): # i have no clue why -6\n",
    "    action = env.action_space.sample()\n",
    "    #https://stackoverflow.com/questions/73195438/openai-gyms-env-step-what-are-the-values\n",
    "    obs, reward, terminated, truncated , info = env.step(action)\n",
    "    if terminated:\n",
    "        print(\"terminated\")\n",
    "        break\n",
    "        \n",
    "plt.figure(figsize=(15,6))\n",
    "plt.cla()\n",
    "env.render_all()\n",
    "plt.show()"
   ]
  },
  {
   "cell_type": "code",
   "execution_count": 22,
   "metadata": {},
   "outputs": [
    {
     "ename": "NameError",
     "evalue": "name 'DummyVecEnv' is not defined",
     "output_type": "error",
     "traceback": [
      "\u001b[0;31m---------------------------------------------------------------------------\u001b[0m",
      "\u001b[0;31mNameError\u001b[0m                                 Traceback (most recent call last)",
      "\u001b[1;32m/Users/hakancangunerli/Desktop/UPS_RL_DQN/RL.ipynb Cell 13\u001b[0m line \u001b[0;36m2\n\u001b[1;32m      <a href='vscode-notebook-cell:/Users/hakancangunerli/Desktop/UPS_RL_DQN/RL.ipynb#X43sZmlsZQ%3D%3D?line=0'>1</a>\u001b[0m env_maker \u001b[39m=\u001b[39m \u001b[39mlambda\u001b[39;00m: gym\u001b[39m.\u001b[39mmake(\u001b[39m'\u001b[39m\u001b[39mstocks-v0\u001b[39m\u001b[39m'\u001b[39m, df\u001b[39m=\u001b[39mdf, frame_bound\u001b[39m=\u001b[39m(\u001b[39m5\u001b[39m,\u001b[39m100\u001b[39m), window_size\u001b[39m=\u001b[39m\u001b[39m5\u001b[39m)\n\u001b[0;32m----> <a href='vscode-notebook-cell:/Users/hakancangunerli/Desktop/UPS_RL_DQN/RL.ipynb#X43sZmlsZQ%3D%3D?line=1'>2</a>\u001b[0m env \u001b[39m=\u001b[39m DummyVecEnv([env_maker])\n",
      "\u001b[0;31mNameError\u001b[0m: name 'DummyVecEnv' is not defined"
     ]
    }
   ],
   "source": [
    "env_maker = lambda: gym.make('stocks-v0', df=df, frame_bound=(5,100), window_size=5)\n",
    "env = DummyVecEnv([env_maker])"
   ]
  },
  {
   "cell_type": "code",
   "execution_count": null,
   "metadata": {
    "scrolled": true
   },
   "outputs": [],
   "source": [
    "model = A2C('MlpLstmPolicy', env, verbose=1) \n",
    "model.learn(total_timesteps=1000000)"
   ]
  },
  {
   "cell_type": "markdown",
   "metadata": {},
   "source": [
    "# 4. Evaluation"
   ]
  },
  {
   "cell_type": "code",
   "execution_count": null,
   "metadata": {},
   "outputs": [],
   "source": [
    "env = gym.make('stocks-v0', df=df, frame_bound=(90,110), window_size=5)\n",
    "obs = env.reset()\n",
    "while True: \n",
    "    obs = obs[np.newaxis, ...]\n",
    "    action, _states = model.predict(obs)\n",
    "    obs, rewards, done, info = env.step(action)\n",
    "    if done:\n",
    "        print(\"info\", info)\n",
    "        break"
   ]
  },
  {
   "cell_type": "code",
   "execution_count": null,
   "metadata": {},
   "outputs": [],
   "source": [
    "plt.figure(figsize=(15,6))\n",
    "plt.cla()\n",
    "env.render_all()\n",
    "plt.show()"
   ]
  },
  {
   "cell_type": "code",
   "execution_count": null,
   "metadata": {},
   "outputs": [],
   "source": []
  }
 ],
 "metadata": {
  "kernelspec": {
   "display_name": "Python 3",
   "language": "python",
   "name": "python3"
  },
  "language_info": {
   "codemirror_mode": {
    "name": "ipython",
    "version": 3
   },
   "file_extension": ".py",
   "mimetype": "text/x-python",
   "name": "python",
   "nbconvert_exporter": "python",
   "pygments_lexer": "ipython3",
   "version": "3.11.4"
  }
 },
 "nbformat": 4,
 "nbformat_minor": 2
}
